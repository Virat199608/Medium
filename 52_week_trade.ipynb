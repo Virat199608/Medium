{
 "cells": [
  {
   "cell_type": "code",
   "execution_count": 3,
   "id": "cc069eec",
   "metadata": {},
   "outputs": [],
   "source": [
    "import yfinance as yf    # to get the data of stock\n",
    "import warnings          # to avoid warning\n",
    "import pandas as pd      # we need pandas to deal with data \n",
    "from datetime import datetime     # This just to give name to file which include current date in it or the day you run\n",
    "warnings.filterwarnings(\"ignore\")"
   ]
  },
  {
   "cell_type": "code",
   "execution_count": 35,
   "id": "c2376a1d",
   "metadata": {},
   "outputs": [
    {
     "data": {
      "text/plain": [
       "0       AADI\n",
       "1       AAIC\n",
       "2       AAMC\n",
       "3       AAOI\n",
       "4        AAT\n",
       "        ... \n",
       "2610     ZTR\n",
       "2611    ZUMZ\n",
       "2612    ZYME\n",
       "2613    ZYNE\n",
       "2614    ZYXI\n",
       "Name: Stocks, Length: 2615, dtype: object"
      ]
     },
     "execution_count": 35,
     "metadata": {},
     "output_type": "execute_result"
    }
   ],
   "source": [
    "dataFrame = pd.read_excel(\"NASDAQ.xlsx\")\n",
    "securityCode = dataFrame['Stocks']\n",
    "securityCode"
   ]
  },
  {
   "cell_type": "code",
   "execution_count": 63,
   "id": "a8f2bd94",
   "metadata": {},
   "outputs": [],
   "source": [
    "def is_greaterthan_avg(df):\n",
    "        today_price = df[-1:]['Close'].values[0]\n",
    "        df['EMA200'] = df['Close'].ewm(span=200).mean()\n",
    "        df['EMA50'] = df['Close'].ewm(span=50).mean()\n",
    "        if df[-1:]['Close'].values[0] > df[-1:]['EMA50'].values[0] and df[-1:]['EMA50'].values[0] > df[-1:]['EMA200'].values[0]:\n",
    "            return True\n",
    " \n",
    "\n",
    "\n"
   ]
  },
  {
   "cell_type": "code",
   "execution_count": null,
   "id": "9df00255",
   "metadata": {},
   "outputs": [],
   "source": [
    "breakout_list= []\n",
    "for code in securityCode:\n",
    "    df = yf.download(\"{0}\".format(code), period=\"1y\",interval = \"1d\")\n",
    "    Tickers=  yf.Ticker(\"{0}\".format(code))\n",
    "    stock_details_price = Tickers.fast_info\n",
    "    stock_details_profit = Tickers.info\n",
    "    \n",
    "    try:\n",
    "        if stock_details_profit['profitMargins'] > 0:\n",
    "            if is_greaterthan_avg(df):\n",
    "                if stock_details['last_price'] > 0.85* stock_details['year_high']:\n",
    "                         ratio =stock_details['last_price']/stock_details['year_high']\n",
    "                         breakout_list.append([code, ratio])\n",
    "    except:\n",
    "        print(\"wrong\")\n"
   ]
  },
  {
   "cell_type": "code",
   "execution_count": null,
   "id": "369f4e69",
   "metadata": {},
   "outputs": [],
   "source": [
    "df = pd.DataFrame(breakout_list, columns=['Code', 'Ratio'])\n",
    "df.to_excel(\"breakout_list{}.xlsx\".format(current_date), index=False)"
   ]
  }
 ],
 "metadata": {
  "kernelspec": {
   "display_name": "Python 3 (ipykernel)",
   "language": "python",
   "name": "python3"
  },
  "language_info": {
   "codemirror_mode": {
    "name": "ipython",
    "version": 3
   },
   "file_extension": ".py",
   "mimetype": "text/x-python",
   "name": "python",
   "nbconvert_exporter": "python",
   "pygments_lexer": "ipython3",
   "version": "3.9.13"
  }
 },
 "nbformat": 4,
 "nbformat_minor": 5
}
